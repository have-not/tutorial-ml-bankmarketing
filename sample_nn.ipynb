{
 "cells": [
  {
   "cell_type": "code",
   "execution_count": 0,
   "metadata": {
    "colab": {},
    "colab_type": "code",
    "id": "RDKxaDSHNsdf",
    "scrolled": true
   },
   "outputs": [],
   "source": [
    "import keras\n",
    "from keras.models import Sequential\n",
    "from keras.layers import Dense, Activation\n",
    "import numpy as np\n",
    "import pandas as pd\n",
    "from sklearn.metrics import accuracy_score"
   ]
  },
  {
   "cell_type": "markdown",
   "metadata": {
    "colab_type": "text",
    "id": "b--zKkXaNsdk"
   },
   "source": [
    "## 学習"
   ]
  },
  {
   "cell_type": "code",
   "execution_count": 0,
   "metadata": {
    "colab": {
     "base_uri": "https://localhost:8080/",
     "height": 241
    },
    "colab_type": "code",
    "executionInfo": {
     "elapsed": 918,
     "status": "ok",
     "timestamp": 1568270921147,
     "user": {
      "displayName": "松岡啓",
      "photoUrl": "",
      "userId": "11659898333519761015"
     },
     "user_tz": -540
    },
    "id": "evY31bW8Nsdm",
    "outputId": "7e8a8767-b0fa-4a23-821e-67a49f47b0fb"
   },
   "outputs": [
    {
     "data": {
      "text/html": [
       "<div>\n",
       "<style scoped>\n",
       "    .dataframe tbody tr th:only-of-type {\n",
       "        vertical-align: middle;\n",
       "    }\n",
       "\n",
       "    .dataframe tbody tr th {\n",
       "        vertical-align: top;\n",
       "    }\n",
       "\n",
       "    .dataframe thead th {\n",
       "        text-align: right;\n",
       "    }\n",
       "</style>\n",
       "<table border=\"1\" class=\"dataframe\">\n",
       "  <thead>\n",
       "    <tr style=\"text-align: right;\">\n",
       "      <th></th>\n",
       "      <th>age</th>\n",
       "      <th>job</th>\n",
       "      <th>marital</th>\n",
       "      <th>education</th>\n",
       "      <th>default</th>\n",
       "      <th>balance</th>\n",
       "      <th>housing</th>\n",
       "      <th>loan</th>\n",
       "      <th>contact</th>\n",
       "      <th>day</th>\n",
       "      <th>month</th>\n",
       "      <th>duration</th>\n",
       "      <th>campaign</th>\n",
       "      <th>pdays</th>\n",
       "      <th>previous</th>\n",
       "      <th>poutcome</th>\n",
       "      <th>y</th>\n",
       "    </tr>\n",
       "  </thead>\n",
       "  <tbody>\n",
       "    <tr>\n",
       "      <th>0</th>\n",
       "      <td>52</td>\n",
       "      <td>services</td>\n",
       "      <td>married</td>\n",
       "      <td>secondary</td>\n",
       "      <td>no</td>\n",
       "      <td>108</td>\n",
       "      <td>yes</td>\n",
       "      <td>no</td>\n",
       "      <td>unknown</td>\n",
       "      <td>15</td>\n",
       "      <td>may</td>\n",
       "      <td>543</td>\n",
       "      <td>12</td>\n",
       "      <td>-1</td>\n",
       "      <td>0</td>\n",
       "      <td>unknown</td>\n",
       "      <td>no</td>\n",
       "    </tr>\n",
       "    <tr>\n",
       "      <th>1</th>\n",
       "      <td>35</td>\n",
       "      <td>admin.</td>\n",
       "      <td>married</td>\n",
       "      <td>unknown</td>\n",
       "      <td>no</td>\n",
       "      <td>1055</td>\n",
       "      <td>no</td>\n",
       "      <td>no</td>\n",
       "      <td>cellular</td>\n",
       "      <td>2</td>\n",
       "      <td>mar</td>\n",
       "      <td>59</td>\n",
       "      <td>2</td>\n",
       "      <td>-1</td>\n",
       "      <td>0</td>\n",
       "      <td>unknown</td>\n",
       "      <td>no</td>\n",
       "    </tr>\n",
       "    <tr>\n",
       "      <th>2</th>\n",
       "      <td>37</td>\n",
       "      <td>blue-collar</td>\n",
       "      <td>married</td>\n",
       "      <td>secondary</td>\n",
       "      <td>no</td>\n",
       "      <td>32</td>\n",
       "      <td>yes</td>\n",
       "      <td>no</td>\n",
       "      <td>unknown</td>\n",
       "      <td>20</td>\n",
       "      <td>may</td>\n",
       "      <td>146</td>\n",
       "      <td>2</td>\n",
       "      <td>-1</td>\n",
       "      <td>0</td>\n",
       "      <td>unknown</td>\n",
       "      <td>no</td>\n",
       "    </tr>\n",
       "    <tr>\n",
       "      <th>3</th>\n",
       "      <td>57</td>\n",
       "      <td>unemployed</td>\n",
       "      <td>married</td>\n",
       "      <td>primary</td>\n",
       "      <td>no</td>\n",
       "      <td>2743</td>\n",
       "      <td>no</td>\n",
       "      <td>no</td>\n",
       "      <td>cellular</td>\n",
       "      <td>29</td>\n",
       "      <td>jan</td>\n",
       "      <td>89</td>\n",
       "      <td>1</td>\n",
       "      <td>-1</td>\n",
       "      <td>0</td>\n",
       "      <td>unknown</td>\n",
       "      <td>no</td>\n",
       "    </tr>\n",
       "    <tr>\n",
       "      <th>4</th>\n",
       "      <td>42</td>\n",
       "      <td>self-employed</td>\n",
       "      <td>married</td>\n",
       "      <td>tertiary</td>\n",
       "      <td>no</td>\n",
       "      <td>6383</td>\n",
       "      <td>no</td>\n",
       "      <td>no</td>\n",
       "      <td>cellular</td>\n",
       "      <td>27</td>\n",
       "      <td>aug</td>\n",
       "      <td>111</td>\n",
       "      <td>5</td>\n",
       "      <td>-1</td>\n",
       "      <td>0</td>\n",
       "      <td>unknown</td>\n",
       "      <td>no</td>\n",
       "    </tr>\n",
       "  </tbody>\n",
       "</table>\n",
       "</div>"
      ],
      "text/plain": [
       "   age            job  marital  education  ... pdays  previous poutcome   y\n",
       "0   52       services  married  secondary  ...    -1         0  unknown  no\n",
       "1   35         admin.  married    unknown  ...    -1         0  unknown  no\n",
       "2   37    blue-collar  married  secondary  ...    -1         0  unknown  no\n",
       "3   57     unemployed  married    primary  ...    -1         0  unknown  no\n",
       "4   42  self-employed  married   tertiary  ...    -1         0  unknown  no\n",
       "\n",
       "[5 rows x 17 columns]"
      ]
     },
     "execution_count": 24,
     "metadata": {
      "tags": []
     },
     "output_type": "execute_result"
    }
   ],
   "source": [
    "df = pd.read_csv('train.csv')\n",
    "df.head()"
   ]
  },
  {
   "cell_type": "code",
   "execution_count": 0,
   "metadata": {
    "colab": {},
    "colab_type": "code",
    "id": "TzPXHVbgNsdq"
   },
   "outputs": [],
   "source": [
    "def get_features(df):\n",
    "    # 特徴量として使う連続量\n",
    "    features_ana = ['age', 'balance', 'day', 'duration', 'campaign' ]\n",
    "    # 連続値として使うカテゴリ値\n",
    "    features_dig = ['job', 'marital', 'education', 'default', 'housing', 'loan', 'contact', 'month', 'pdays', 'previous', 'poutcome']\n",
    "    X = np.concatenate(\n",
    "        [df[features_ana].values, pd.get_dummies(df[features_dig]).values],\n",
    "        axis=1)\n",
    "    return X\n",
    "\n",
    "def get_label(df):\n",
    "    y = df['y'].replace({'yes': 1, 'no': 0}).values\n",
    "    return y"
   ]
  },
  {
   "cell_type": "code",
   "execution_count": 0,
   "metadata": {
    "colab": {},
    "colab_type": "code",
    "id": "U02UEhUtNsdt"
   },
   "outputs": [],
   "source": [
    "# 特徴量, ラベルを作成\n",
    "X = get_features(df)\n",
    "y = get_label(df)"
   ]
  },
  {
   "cell_type": "code",
   "execution_count": 0,
   "metadata": {
    "colab": {},
    "colab_type": "code",
    "id": "tj482bEDNsdw"
   },
   "outputs": [],
   "source": [
    "input_dim = X.shape[1]\n",
    "# 隠れ層なしのNN\n",
    "model = Sequential([\n",
    "    Dense(32, input_shape=(input_dim, )),\n",
    "    Activation('relu'),\n",
    "    Dense(1),\n",
    "    Activation('sigmoid'),\n",
    "])\n"
   ]
  },
  {
   "cell_type": "code",
   "execution_count": 0,
   "metadata": {
    "colab": {},
    "colab_type": "code",
    "id": "XhPcgbTNNsdy"
   },
   "outputs": [],
   "source": [
    "model.compile(optimizer='rmsprop',\n",
    "              loss='binary_crossentropy',\n",
    "              metrics=['accuracy'])"
   ]
  },
  {
   "cell_type": "code",
   "execution_count": 0,
   "metadata": {
    "colab": {
     "base_uri": "https://localhost:8080/",
     "height": 374
    },
    "colab_type": "code",
    "executionInfo": {
     "elapsed": 16079,
     "status": "ok",
     "timestamp": 1568270936350,
     "user": {
      "displayName": "松岡啓",
      "photoUrl": "",
      "userId": "11659898333519761015"
     },
     "user_tz": -540
    },
    "id": "TM45GUegNsd1",
    "outputId": "01fd7131-4df4-4351-f771-71a5ba042d3c"
   },
   "outputs": [
    {
     "name": "stdout",
     "output_type": "stream",
     "text": [
      "Epoch 1/10\n",
      "40689/40689 [==============================] - 2s 43us/step - loss: 1.1331 - acc: 0.8570\n",
      "Epoch 2/10\n",
      "40689/40689 [==============================] - 1s 36us/step - loss: 0.8733 - acc: 0.8627\n",
      "Epoch 3/10\n",
      "40689/40689 [==============================] - 1s 35us/step - loss: 0.8318 - acc: 0.8695\n",
      "Epoch 4/10\n",
      "40689/40689 [==============================] - 1s 35us/step - loss: 0.8055 - acc: 0.8709\n",
      "Epoch 5/10\n",
      "40689/40689 [==============================] - 1s 35us/step - loss: 0.7757 - acc: 0.8737\n",
      "Epoch 6/10\n",
      "40689/40689 [==============================] - 1s 36us/step - loss: 0.7586 - acc: 0.8755\n",
      "Epoch 7/10\n",
      "40689/40689 [==============================] - 1s 37us/step - loss: 0.7288 - acc: 0.8757\n",
      "Epoch 8/10\n",
      "40689/40689 [==============================] - 1s 35us/step - loss: 0.7063 - acc: 0.8764\n",
      "Epoch 9/10\n",
      "40689/40689 [==============================] - 1s 35us/step - loss: 0.6984 - acc: 0.8774\n",
      "Epoch 10/10\n",
      "40689/40689 [==============================] - 1s 36us/step - loss: 0.6718 - acc: 0.8772\n"
     ]
    },
    {
     "data": {
      "text/plain": [
       "<keras.callbacks.History at 0x7fb94c2b3160>"
      ]
     },
     "execution_count": 29,
     "metadata": {
      "tags": []
     },
     "output_type": "execute_result"
    }
   ],
   "source": [
    "model.fit(X, y, epochs=10, batch_size=32)"
   ]
  },
  {
   "cell_type": "markdown",
   "metadata": {
    "colab_type": "text",
    "id": "xlQwLLqYNsd5"
   },
   "source": [
    "## テスト"
   ]
  },
  {
   "cell_type": "code",
   "execution_count": 0,
   "metadata": {
    "colab": {},
    "colab_type": "code",
    "id": "xWm3n1WkNsd6"
   },
   "outputs": [],
   "source": [
    "test_df = pd.read_csv('test.csv')"
   ]
  },
  {
   "cell_type": "code",
   "execution_count": 0,
   "metadata": {
    "colab": {},
    "colab_type": "code",
    "id": "eDOJEle9Nsd9"
   },
   "outputs": [],
   "source": [
    "test_X = get_features(test_df)\n",
    "test_y = get_label(test_df)"
   ]
  },
  {
   "cell_type": "code",
   "execution_count": 0,
   "metadata": {
    "colab": {},
    "colab_type": "code",
    "id": "mnEoN6ufNsd_"
   },
   "outputs": [],
   "source": [
    "# accuracy\n",
    "pred = model.predict(test_X).reshape(-1)\n",
    "pred = (pred > 0.5).astype(int)"
   ]
  },
  {
   "cell_type": "code",
   "execution_count": 0,
   "metadata": {
    "colab": {
     "base_uri": "https://localhost:8080/",
     "height": 34
    },
    "colab_type": "code",
    "executionInfo": {
     "elapsed": 16164,
     "status": "ok",
     "timestamp": 1568270936532,
     "user": {
      "displayName": "松岡啓",
      "photoUrl": "",
      "userId": "11659898333519761015"
     },
     "user_tz": -540
    },
    "id": "7eGKm7kgNseE",
    "outputId": "047fb886-2c37-4a06-a65a-9e30875b916f"
   },
   "outputs": [
    {
     "data": {
      "text/plain": [
       "0.8925254312251216"
      ]
     },
     "execution_count": 33,
     "metadata": {
      "tags": []
     },
     "output_type": "execute_result"
    }
   ],
   "source": [
    "# test score (この値を報告)\n",
    "accuracy_score(test_y, pred)"
   ]
  },
  {
   "cell_type": "code",
   "execution_count": 0,
   "metadata": {
    "colab": {},
    "colab_type": "code",
    "id": "aqzPFWWHNseH"
   },
   "outputs": [],
   "source": []
  },
  {
   "cell_type": "code",
   "execution_count": 0,
   "metadata": {
    "colab": {},
    "colab_type": "code",
    "id": "DmK6XZV6NseK"
   },
   "outputs": [],
   "source": []
  },
  {
   "cell_type": "code",
   "execution_count": 0,
   "metadata": {
    "colab": {},
    "colab_type": "code",
    "id": "O6XKeqzwNseN"
   },
   "outputs": [],
   "source": []
  }
 ],
 "metadata": {
  "accelerator": "TPU",
  "colab": {
   "collapsed_sections": [],
   "name": "sample_nn.ipynb のコピー",
   "provenance": [
    {
     "file_id": "1KvvaNpZFB5vcOvUy-8f54Bqq2st1UqAl",
     "timestamp": 1568272104980
    }
   ],
   "toc_visible": true,
   "version": "0.3.2"
  },
  "kernelspec": {
   "display_name": "Python 3",
   "language": "python",
   "name": "python3"
  },
  "language_info": {
   "codemirror_mode": {
    "name": "ipython",
    "version": 3
   },
   "file_extension": ".py",
   "mimetype": "text/x-python",
   "name": "python",
   "nbconvert_exporter": "python",
   "pygments_lexer": "ipython3",
   "version": "3.6.9"
  }
 },
 "nbformat": 4,
 "nbformat_minor": 1
}
