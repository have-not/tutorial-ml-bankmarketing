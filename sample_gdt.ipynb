{
  "nbformat": 4,
  "nbformat_minor": 0,
  "metadata": {
    "colab": {
      "name": "sample_GDT.ipynb",
      "version": "0.3.2",
      "provenance": [],
      "collapsed_sections": [],
      "toc_visible": true
    },
    "language_info": {
      "codemirror_mode": {
        "name": "ipython",
        "version": 3
      },
      "file_extension": ".py",
      "mimetype": "text/x-python",
      "name": "python",
      "nbconvert_exporter": "python",
      "pygments_lexer": "ipython3",
      "version": "3.6.8"
    },
    "kernelspec": {
      "name": "python3",
      "display_name": "Python 3"
    },
    "accelerator": "TPU"
  },
  "cells": [
    {
      "cell_type": "code",
      "metadata": {
        "scrolled": true,
        "id": "_uC7neGT80lE",
        "colab_type": "code",
        "colab": {}
      },
      "source": [
        "import numpy as np\n",
        "import pandas as pd\n",
        "from sklearn.metrics import accuracy_score\n",
        "from sklearn.ensemble import GradientBoostingClassifier\n",
        "from sklearn.metrics import mean_squared_error\n",
        "from sklearn.ensemble import GradientBoostingRegressor\n",
        "from sklearn.model_selection import GridSearchCV"
      ],
      "execution_count": 0,
      "outputs": []
    },
    {
      "cell_type": "markdown",
      "metadata": {
        "id": "pxPs9Pha80lJ",
        "colab_type": "text"
      },
      "source": [
        "## 学習"
      ]
    },
    {
      "cell_type": "code",
      "metadata": {
        "id": "k4nGLXLy80lK",
        "colab_type": "code",
        "outputId": "e685c140-1be8-4c03-ceb2-d3a84e159edc",
        "colab": {
          "base_uri": "https://localhost:8080/",
          "height": 241
        }
      },
      "source": [
        "df = pd.read_csv('train.csv')\n",
        "df.head()"
      ],
      "execution_count": 4,
      "outputs": [
        {
          "output_type": "execute_result",
          "data": {
            "text/html": [
              "<div>\n",
              "<style scoped>\n",
              "    .dataframe tbody tr th:only-of-type {\n",
              "        vertical-align: middle;\n",
              "    }\n",
              "\n",
              "    .dataframe tbody tr th {\n",
              "        vertical-align: top;\n",
              "    }\n",
              "\n",
              "    .dataframe thead th {\n",
              "        text-align: right;\n",
              "    }\n",
              "</style>\n",
              "<table border=\"1\" class=\"dataframe\">\n",
              "  <thead>\n",
              "    <tr style=\"text-align: right;\">\n",
              "      <th></th>\n",
              "      <th>age</th>\n",
              "      <th>job</th>\n",
              "      <th>marital</th>\n",
              "      <th>education</th>\n",
              "      <th>default</th>\n",
              "      <th>balance</th>\n",
              "      <th>housing</th>\n",
              "      <th>loan</th>\n",
              "      <th>contact</th>\n",
              "      <th>day</th>\n",
              "      <th>month</th>\n",
              "      <th>duration</th>\n",
              "      <th>campaign</th>\n",
              "      <th>pdays</th>\n",
              "      <th>previous</th>\n",
              "      <th>poutcome</th>\n",
              "      <th>y</th>\n",
              "    </tr>\n",
              "  </thead>\n",
              "  <tbody>\n",
              "    <tr>\n",
              "      <th>0</th>\n",
              "      <td>52</td>\n",
              "      <td>services</td>\n",
              "      <td>married</td>\n",
              "      <td>secondary</td>\n",
              "      <td>no</td>\n",
              "      <td>108</td>\n",
              "      <td>yes</td>\n",
              "      <td>no</td>\n",
              "      <td>unknown</td>\n",
              "      <td>15</td>\n",
              "      <td>may</td>\n",
              "      <td>543</td>\n",
              "      <td>12</td>\n",
              "      <td>-1</td>\n",
              "      <td>0</td>\n",
              "      <td>unknown</td>\n",
              "      <td>no</td>\n",
              "    </tr>\n",
              "    <tr>\n",
              "      <th>1</th>\n",
              "      <td>35</td>\n",
              "      <td>admin.</td>\n",
              "      <td>married</td>\n",
              "      <td>unknown</td>\n",
              "      <td>no</td>\n",
              "      <td>1055</td>\n",
              "      <td>no</td>\n",
              "      <td>no</td>\n",
              "      <td>cellular</td>\n",
              "      <td>2</td>\n",
              "      <td>mar</td>\n",
              "      <td>59</td>\n",
              "      <td>2</td>\n",
              "      <td>-1</td>\n",
              "      <td>0</td>\n",
              "      <td>unknown</td>\n",
              "      <td>no</td>\n",
              "    </tr>\n",
              "    <tr>\n",
              "      <th>2</th>\n",
              "      <td>37</td>\n",
              "      <td>blue-collar</td>\n",
              "      <td>married</td>\n",
              "      <td>secondary</td>\n",
              "      <td>no</td>\n",
              "      <td>32</td>\n",
              "      <td>yes</td>\n",
              "      <td>no</td>\n",
              "      <td>unknown</td>\n",
              "      <td>20</td>\n",
              "      <td>may</td>\n",
              "      <td>146</td>\n",
              "      <td>2</td>\n",
              "      <td>-1</td>\n",
              "      <td>0</td>\n",
              "      <td>unknown</td>\n",
              "      <td>no</td>\n",
              "    </tr>\n",
              "    <tr>\n",
              "      <th>3</th>\n",
              "      <td>57</td>\n",
              "      <td>unemployed</td>\n",
              "      <td>married</td>\n",
              "      <td>primary</td>\n",
              "      <td>no</td>\n",
              "      <td>2743</td>\n",
              "      <td>no</td>\n",
              "      <td>no</td>\n",
              "      <td>cellular</td>\n",
              "      <td>29</td>\n",
              "      <td>jan</td>\n",
              "      <td>89</td>\n",
              "      <td>1</td>\n",
              "      <td>-1</td>\n",
              "      <td>0</td>\n",
              "      <td>unknown</td>\n",
              "      <td>no</td>\n",
              "    </tr>\n",
              "    <tr>\n",
              "      <th>4</th>\n",
              "      <td>42</td>\n",
              "      <td>self-employed</td>\n",
              "      <td>married</td>\n",
              "      <td>tertiary</td>\n",
              "      <td>no</td>\n",
              "      <td>6383</td>\n",
              "      <td>no</td>\n",
              "      <td>no</td>\n",
              "      <td>cellular</td>\n",
              "      <td>27</td>\n",
              "      <td>aug</td>\n",
              "      <td>111</td>\n",
              "      <td>5</td>\n",
              "      <td>-1</td>\n",
              "      <td>0</td>\n",
              "      <td>unknown</td>\n",
              "      <td>no</td>\n",
              "    </tr>\n",
              "  </tbody>\n",
              "</table>\n",
              "</div>"
            ],
            "text/plain": [
              "   age            job  marital  education  ... pdays  previous poutcome   y\n",
              "0   52       services  married  secondary  ...    -1         0  unknown  no\n",
              "1   35         admin.  married    unknown  ...    -1         0  unknown  no\n",
              "2   37    blue-collar  married  secondary  ...    -1         0  unknown  no\n",
              "3   57     unemployed  married    primary  ...    -1         0  unknown  no\n",
              "4   42  self-employed  married   tertiary  ...    -1         0  unknown  no\n",
              "\n",
              "[5 rows x 17 columns]"
            ]
          },
          "metadata": {
            "tags": []
          },
          "execution_count": 4
        }
      ]
    },
    {
      "cell_type": "markdown",
      "metadata": {
        "id": "vTiVCeh1z_FP",
        "colab_type": "text"
      },
      "source": [
        "## 前処理"
      ]
    },
    {
      "cell_type": "code",
      "metadata": {
        "id": "PtgTp-Wp8hIB",
        "colab_type": "code",
        "colab": {}
      },
      "source": [
        "import datetime"
      ],
      "execution_count": 0,
      "outputs": []
    },
    {
      "cell_type": "code",
      "metadata": {
        "id": "3AZukNKe80lQ",
        "colab_type": "code",
        "colab": {}
      },
      "source": [
        "def get_features(df):\n",
        "    df['month'] = df['month'].replace({\n",
        "        'jan': 1,\n",
        "        'feb': 2,\n",
        "        'mar': 3, \n",
        "        'apr': 4,\n",
        "        'may': 5,\n",
        "        'jun': 6,\n",
        "        'jul': 7,\n",
        "        'aug': 8,\n",
        "        'sep': 9,\n",
        "        'oct': 10,\n",
        "        'nov': 11,\n",
        "        'dec': 12,\n",
        "    }).values\n",
        "    \n",
        "    df['yday'] = [str(datetime.datetime(2000, month, day).timetuple().tm_yday) for month, day in zip(df['month'].values, df['day'].values)]\n",
        "\n",
        "    # 特徴量として使う連続量\n",
        "    features_ana = ['age','balance', 'duration', 'campaign', 'pdays', 'previous', 'yday']\n",
        "    # 特徴量として使うカテゴリ値\n",
        "    features_dig = ['job', 'marital', 'education', 'default','housing', 'loan', 'contact', 'poutcome']\n",
        "    X = np.concatenate(\n",
        "        [df[features_ana].values, pd.get_dummies(df[features_dig]).values],\n",
        "        axis=1)\n",
        "    return X\n",
        "\n",
        "def get_label(df):\n",
        "    y = df['y'].replace({'yes': 1, 'no': 0}).values\n",
        "    return y"
      ],
      "execution_count": 0,
      "outputs": []
    },
    {
      "cell_type": "code",
      "metadata": {
        "id": "jjDx3JGz80lS",
        "colab_type": "code",
        "colab": {}
      },
      "source": [
        "# 特徴量, ラベルを作成\n",
        "X = get_features(df)\n",
        "y = get_label(df)"
      ],
      "execution_count": 0,
      "outputs": []
    },
    {
      "cell_type": "markdown",
      "metadata": {
        "id": "OxCQhplWvy3r",
        "colab_type": "text"
      },
      "source": [
        "### グリッドサーチ"
      ]
    },
    {
      "cell_type": "code",
      "metadata": {
        "id": "9ZSvmVi8vx-1",
        "colab_type": "code",
        "colab": {}
      },
      "source": [
        "mod1J1 =GradientBoostingRegressor(\n",
        "    min_samples_split = 5, \n",
        "    min_samples_leaf = 50, \n",
        "    max_depth = 5, \n",
        "    max_features = 'sqrt', \n",
        "    subsample = 0.8)\n",
        "paramJ1_1 = {'n_estimators': list(range(20, 101, 10)),\n",
        "             'learning_rate': list(np.arange(0.05, 0.20, 0.01))}\n",
        "\n",
        "gsearch1 = GridSearchCV(estimator = mod1J1, \n",
        "                        param_grid = paramJ1_1, \n",
        "                        cv = 5, \n",
        "                        n_jobs=4, \n",
        "                        scoring = 'neg_mean_squared_error')\n",
        "gsearch1.fit(X, y)\n",
        "# test精度の平均が最も高かった組み合わせを出力\n",
        "print(gsearch1.best_params_)"
      ],
      "execution_count": 0,
      "outputs": []
    },
    {
      "cell_type": "code",
      "metadata": {
        "id": "ZdKNlqMyw2KL",
        "colab_type": "code",
        "colab": {
          "base_uri": "https://localhost:8080/",
          "height": 187
        },
        "outputId": "052fad46-0774-4a76-c6d0-603345670fae"
      },
      "source": [
        "clf = GradientBoostingClassifier(\n",
        "    n_estimators = 90,\n",
        "    learning_rate = 0.13,\n",
        "    min_samples_split = 6, \n",
        "    max_depth = 6, \n",
        "    min_samples_leaf = 61, \n",
        "    max_features = 9, \n",
        "    subsample = 0.8,\n",
        "    random_state=0)\n",
        "clf.fit(X, y)"
      ],
      "execution_count": 8,
      "outputs": [
        {
          "output_type": "execute_result",
          "data": {
            "text/plain": [
              "GradientBoostingClassifier(criterion='friedman_mse', init=None,\n",
              "                           learning_rate=0.13, loss='deviance', max_depth=6,\n",
              "                           max_features=9, max_leaf_nodes=None,\n",
              "                           min_impurity_decrease=0.0, min_impurity_split=None,\n",
              "                           min_samples_leaf=61, min_samples_split=6,\n",
              "                           min_weight_fraction_leaf=0.0, n_estimators=90,\n",
              "                           n_iter_no_change=None, presort='auto',\n",
              "                           random_state=0, subsample=0.8, tol=0.0001,\n",
              "                           validation_fraction=0.1, verbose=0,\n",
              "                           warm_start=False)"
            ]
          },
          "metadata": {
            "tags": []
          },
          "execution_count": 8
        }
      ]
    },
    {
      "cell_type": "code",
      "metadata": {
        "id": "ENfospi9w8Pq",
        "colab_type": "code",
        "colab": {
          "base_uri": "https://localhost:8080/",
          "height": 34
        },
        "outputId": "4f6fa604-602f-41e8-ee5b-e2ca1614eed7"
      },
      "source": [
        "clf.score(X, ｙ) "
      ],
      "execution_count": 9,
      "outputs": [
        {
          "output_type": "execute_result",
          "data": {
            "text/plain": [
              "0.9226572292265723"
            ]
          },
          "metadata": {
            "tags": []
          },
          "execution_count": 9
        }
      ]
    },
    {
      "cell_type": "markdown",
      "metadata": {
        "id": "l_iaikZO80le",
        "colab_type": "text"
      },
      "source": [
        "## テスト"
      ]
    },
    {
      "cell_type": "code",
      "metadata": {
        "id": "RYZedtO280le",
        "colab_type": "code",
        "colab": {}
      },
      "source": [
        "test_df = pd.read_csv('test.csv')"
      ],
      "execution_count": 0,
      "outputs": []
    },
    {
      "cell_type": "code",
      "metadata": {
        "id": "6TRNtnn480lh",
        "colab_type": "code",
        "colab": {}
      },
      "source": [
        "test_X = get_features(test_df)\n",
        "test_y = get_label(test_df)"
      ],
      "execution_count": 0,
      "outputs": []
    },
    {
      "cell_type": "code",
      "metadata": {
        "id": "SnR8pm0L80ln",
        "colab_type": "code",
        "outputId": "35e1447d-49fd-4eb1-a2f0-556eb549747f",
        "colab": {
          "base_uri": "https://localhost:8080/",
          "height": 34
        }
      },
      "source": [
        "# test ARI (この値を報告してください)\n",
        "clf.score(test_X, test_y) "
      ],
      "execution_count": 12,
      "outputs": [
        {
          "output_type": "execute_result",
          "data": {
            "text/plain": [
              "0.9124281291463954"
            ]
          },
          "metadata": {
            "tags": []
          },
          "execution_count": 12
        }
      ]
    },
    {
      "cell_type": "code",
      "metadata": {
        "id": "UyjRERyzoB7L",
        "colab_type": "code",
        "colab": {}
      },
      "source": [
        ""
      ],
      "execution_count": 0,
      "outputs": []
    }
  ]
}